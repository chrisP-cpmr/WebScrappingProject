{
 "cells": [
  {
   "cell_type": "code",
   "execution_count": 71,
   "id": "iraqi-settle",
   "metadata": {},
   "outputs": [],
   "source": [
    "# 2021-05, Christoph Meier, https://github.com/chrisP-cpmr\n",
    "# ~~~~~~~~~~~~~~~~~~~~~~~~~~~~~~~~~~~~~~~~~~~~~~~~~~~~~~~~~~~~~~~~~~~~~~~~~~~~~~\n",
    "\n",
    "import pandas as pd\n",
    "\n",
    "pd.set_option('precision', 3)\n",
    "pd.set_option('max_rows', 20)\n",
    "pd.set_option('max_colwidth', 30)"
   ]
  },
  {
   "cell_type": "markdown",
   "id": "corporate-rating",
   "metadata": {},
   "source": [
    "# Load and analyse data\n",
    "\n",
    "Read the .csv file"
   ]
  },
  {
   "cell_type": "code",
   "execution_count": 72,
   "id": "social-environment",
   "metadata": {},
   "outputs": [],
   "source": [
    "weeklyCharts = pd.read_csv(\"Hitparade.ch_2010_src_dirty.csv\",\n",
    "                          encoding='UTF-8',\n",
    "                          parse_dates=[' Week'])"
   ]
  },
  {
   "cell_type": "code",
   "execution_count": 73,
   "id": "innovative-ghost",
   "metadata": {},
   "outputs": [
    {
     "data": {
      "text/html": [
       "<div>\n",
       "<style scoped>\n",
       "    .dataframe tbody tr th:only-of-type {\n",
       "        vertical-align: middle;\n",
       "    }\n",
       "\n",
       "    .dataframe tbody tr th {\n",
       "        vertical-align: top;\n",
       "    }\n",
       "\n",
       "    .dataframe thead th {\n",
       "        text-align: right;\n",
       "    }\n",
       "</style>\n",
       "<table border=\"1\" class=\"dataframe\">\n",
       "  <thead>\n",
       "    <tr style=\"text-align: right;\">\n",
       "      <th></th>\n",
       "      <th>VW</th>\n",
       "      <th>ArtistAndTitle</th>\n",
       "      <th>WeeksAndPeak</th>\n",
       "      <th>Rank</th>\n",
       "      <th>Week</th>\n",
       "    </tr>\n",
       "  </thead>\n",
       "  <tbody>\n",
       "    <tr>\n",
       "      <th>35325</th>\n",
       "      <td>VW 72</td>\n",
       "      <td>Drake&lt;/b&gt;&lt;br/&gt;Nice For Wha...</td>\n",
       "      <td>W 12 | P 7</td>\n",
       "      <td>76</td>\n",
       "      <td>2018-01-07</td>\n",
       "    </tr>\n",
       "    <tr>\n",
       "      <th>34318</th>\n",
       "      <td>re</td>\n",
       "      <td>Sigala &amp;amp; Paloma Faith&lt;...</td>\n",
       "      <td>W 2 | P 52</td>\n",
       "      <td>69</td>\n",
       "      <td>2018-04-22</td>\n",
       "    </tr>\n",
       "    <tr>\n",
       "      <th>43518</th>\n",
       "      <td>VW 58</td>\n",
       "      <td>Gzuz&lt;/b&gt;&lt;br/&gt;Vor der Tür&lt;/a&gt;</td>\n",
       "      <td>W 5 | P 16</td>\n",
       "      <td>69</td>\n",
       "      <td>2020-01-26</td>\n",
       "    </tr>\n",
       "    <tr>\n",
       "      <th>5052</th>\n",
       "      <td>VW 24</td>\n",
       "      <td>Bruno Mars&lt;/b&gt;&lt;br/&gt;Just Th...</td>\n",
       "      <td>W 21 | P 3</td>\n",
       "      <td>28</td>\n",
       "      <td>2011-04-24</td>\n",
       "    </tr>\n",
       "    <tr>\n",
       "      <th>50157</th>\n",
       "      <td>VW 70</td>\n",
       "      <td>Sunrise Avenue&lt;/b&gt;&lt;br/&gt;I H...</td>\n",
       "      <td>W 18 | P 16</td>\n",
       "      <td>80</td>\n",
       "      <td>2018-01-14</td>\n",
       "    </tr>\n",
       "    <tr>\n",
       "      <th>38258</th>\n",
       "      <td>neu</td>\n",
       "      <td>Azet &amp;amp; Zuna&lt;/b&gt;&lt;br/&gt;We...</td>\n",
       "      <td>W 1 | P 9</td>\n",
       "      <td>9</td>\n",
       "      <td>2019-01-27</td>\n",
       "    </tr>\n",
       "    <tr>\n",
       "      <th>23196</th>\n",
       "      <td>VW 20</td>\n",
       "      <td>The Weeknd&lt;/b&gt;&lt;br/&gt;Can't F...</td>\n",
       "      <td>W 23 | P 8</td>\n",
       "      <td>22</td>\n",
       "      <td>2015-12-27</td>\n",
       "    </tr>\n",
       "    <tr>\n",
       "      <th>3885</th>\n",
       "      <td>VW 52</td>\n",
       "      <td>Marc Sway&lt;/b&gt;&lt;br/&gt;Din Enge...</td>\n",
       "      <td>W 3 | P 48</td>\n",
       "      <td>61</td>\n",
       "      <td>2010-12-26</td>\n",
       "    </tr>\n",
       "    <tr>\n",
       "      <th>4056</th>\n",
       "      <td>VW 7</td>\n",
       "      <td>Aloe Blacc&lt;/b&gt;&lt;br/&gt;I Need ...</td>\n",
       "      <td>W 23 | P 5</td>\n",
       "      <td>7</td>\n",
       "      <td>2011-01-23</td>\n",
       "    </tr>\n",
       "    <tr>\n",
       "      <th>44997</th>\n",
       "      <td>VW 36</td>\n",
       "      <td>Vicetone &amp;amp; Tony Igy&lt;/b...</td>\n",
       "      <td>W 5 | P 36</td>\n",
       "      <td>48</td>\n",
       "      <td>2020-10-05</td>\n",
       "    </tr>\n",
       "  </tbody>\n",
       "</table>\n",
       "</div>"
      ],
      "text/plain": [
       "          VW                 ArtistAndTitle  WeeksAndPeak   Rank       Week\n",
       "35325  VW 72  Drake</b><br/>Nice For Wha...    W 12 | P 7     76 2018-01-07\n",
       "34318     re  Sigala &amp; Paloma Faith<...    W 2 | P 52     69 2018-04-22\n",
       "43518  VW 58   Gzuz</b><br/>Vor der Tür</a>    W 5 | P 16     69 2020-01-26\n",
       "5052   VW 24  Bruno Mars</b><br/>Just Th...    W 21 | P 3     28 2011-04-24\n",
       "50157  VW 70  Sunrise Avenue</b><br/>I H...   W 18 | P 16     80 2018-01-14\n",
       "38258    neu  Azet &amp; Zuna</b><br/>We...     W 1 | P 9      9 2019-01-27\n",
       "23196  VW 20  The Weeknd</b><br/>Can't F...    W 23 | P 8     22 2015-12-27\n",
       "3885   VW 52  Marc Sway</b><br/>Din Enge...    W 3 | P 48     61 2010-12-26\n",
       "4056    VW 7  Aloe Blacc</b><br/>I Need ...    W 23 | P 5      7 2011-01-23\n",
       "44997  VW 36  Vicetone &amp; Tony Igy</b...    W 5 | P 36     48 2020-10-05"
      ]
     },
     "execution_count": 73,
     "metadata": {},
     "output_type": "execute_result"
    }
   ],
   "source": [
    "weeklyCharts.sample(10)"
   ]
  },
  {
   "cell_type": "code",
   "execution_count": 74,
   "id": "norwegian-leeds",
   "metadata": {},
   "outputs": [
    {
     "data": {
      "text/html": [
       "<div>\n",
       "<style scoped>\n",
       "    .dataframe tbody tr th:only-of-type {\n",
       "        vertical-align: middle;\n",
       "    }\n",
       "\n",
       "    .dataframe tbody tr th {\n",
       "        vertical-align: top;\n",
       "    }\n",
       "\n",
       "    .dataframe thead th {\n",
       "        text-align: right;\n",
       "    }\n",
       "</style>\n",
       "<table border=\"1\" class=\"dataframe\">\n",
       "  <thead>\n",
       "    <tr style=\"text-align: right;\">\n",
       "      <th></th>\n",
       "      <th>VW</th>\n",
       "      <th>ArtistAndTitle</th>\n",
       "      <th>WeeksAndPeak</th>\n",
       "      <th>Rank</th>\n",
       "      <th>Week</th>\n",
       "    </tr>\n",
       "  </thead>\n",
       "  <tbody>\n",
       "    <tr>\n",
       "      <th>0</th>\n",
       "      <td>VW 1</td>\n",
       "      <td>Melanie Fiona&lt;/b&gt;&lt;br/&gt;Mond...</td>\n",
       "      <td>W 10 | P 1</td>\n",
       "      <td>1</td>\n",
       "      <td>2010-03-01</td>\n",
       "    </tr>\n",
       "    <tr>\n",
       "      <th>1</th>\n",
       "      <td>VW 2</td>\n",
       "      <td>Rihanna&lt;/b&gt;&lt;br/&gt;Russian Ro...</td>\n",
       "      <td>W 6 | P 2</td>\n",
       "      <td>2</td>\n",
       "      <td>2010-03-01</td>\n",
       "    </tr>\n",
       "    <tr>\n",
       "      <th>2</th>\n",
       "      <td>VW 3</td>\n",
       "      <td>The Black Eyed Peas&lt;/b&gt;&lt;br...</td>\n",
       "      <td>W 10 | P 3</td>\n",
       "      <td>3</td>\n",
       "      <td>2010-03-01</td>\n",
       "    </tr>\n",
       "    <tr>\n",
       "      <th>3</th>\n",
       "      <td>VW 10</td>\n",
       "      <td>Jay-Z + Alicia Keys&lt;/b&gt;&lt;br...</td>\n",
       "      <td>W 14 | P 4</td>\n",
       "      <td>4</td>\n",
       "      <td>2010-03-01</td>\n",
       "    </tr>\n",
       "    <tr>\n",
       "      <th>4</th>\n",
       "      <td>VW 7</td>\n",
       "      <td>OneRepublic&lt;/b&gt;&lt;br/&gt;All Th...</td>\n",
       "      <td>W 9 | P 2</td>\n",
       "      <td>5</td>\n",
       "      <td>2010-03-01</td>\n",
       "    </tr>\n",
       "  </tbody>\n",
       "</table>\n",
       "</div>"
      ],
      "text/plain": [
       "      VW                 ArtistAndTitle  WeeksAndPeak   Rank       Week\n",
       "0   VW 1  Melanie Fiona</b><br/>Mond...    W 10 | P 1      1 2010-03-01\n",
       "1   VW 2  Rihanna</b><br/>Russian Ro...     W 6 | P 2      2 2010-03-01\n",
       "2   VW 3  The Black Eyed Peas</b><br...    W 10 | P 3      3 2010-03-01\n",
       "3  VW 10  Jay-Z + Alicia Keys</b><br...    W 14 | P 4      4 2010-03-01\n",
       "4   VW 7  OneRepublic</b><br/>All Th...     W 9 | P 2      5 2010-03-01"
      ]
     },
     "execution_count": 74,
     "metadata": {},
     "output_type": "execute_result"
    }
   ],
   "source": [
    "weeklyCharts.head(5)"
   ]
  },
  {
   "cell_type": "code",
   "execution_count": 68,
   "id": "infinite-ladder",
   "metadata": {},
   "outputs": [
    {
     "name": "stdout",
     "output_type": "stream",
     "text": [
      "<class 'pandas.core.frame.DataFrame'>\n",
      "RangeIndex: 50300 entries, 0 to 50299\n",
      "Data columns (total 5 columns):\n",
      " #   Column           Non-Null Count  Dtype         \n",
      "---  ------           --------------  -----         \n",
      " 0   VW               50300 non-null  object        \n",
      " 1    ArtistAndTitle  50300 non-null  object        \n",
      " 2    WeeksAndPeak    50280 non-null  object        \n",
      " 3    Rank            50300 non-null  int64         \n",
      " 4    Week            50300 non-null  datetime64[ns]\n",
      "dtypes: datetime64[ns](1), int64(1), object(3)\n",
      "memory usage: 1.9+ MB\n"
     ]
    }
   ],
   "source": [
    "weeklyCharts.info()"
   ]
  },
  {
   "cell_type": "code",
   "execution_count": 66,
   "id": "religious-welcome",
   "metadata": {
    "scrolled": true
   },
   "outputs": [
    {
     "data": {
      "text/html": [
       "<div>\n",
       "<style scoped>\n",
       "    .dataframe tbody tr th:only-of-type {\n",
       "        vertical-align: middle;\n",
       "    }\n",
       "\n",
       "    .dataframe tbody tr th {\n",
       "        vertical-align: top;\n",
       "    }\n",
       "\n",
       "    .dataframe thead th {\n",
       "        text-align: right;\n",
       "    }\n",
       "</style>\n",
       "<table border=\"1\" class=\"dataframe\">\n",
       "  <thead>\n",
       "    <tr style=\"text-align: right;\">\n",
       "      <th></th>\n",
       "      <th>Rank</th>\n",
       "    </tr>\n",
       "  </thead>\n",
       "  <tbody>\n",
       "    <tr>\n",
       "      <th>count</th>\n",
       "      <td>50300.000</td>\n",
       "    </tr>\n",
       "    <tr>\n",
       "      <th>mean</th>\n",
       "      <td>43.946</td>\n",
       "    </tr>\n",
       "    <tr>\n",
       "      <th>std</th>\n",
       "      <td>26.099</td>\n",
       "    </tr>\n",
       "    <tr>\n",
       "      <th>min</th>\n",
       "      <td>1.000</td>\n",
       "    </tr>\n",
       "    <tr>\n",
       "      <th>25%</th>\n",
       "      <td>22.000</td>\n",
       "    </tr>\n",
       "    <tr>\n",
       "      <th>50%</th>\n",
       "      <td>43.000</td>\n",
       "    </tr>\n",
       "    <tr>\n",
       "      <th>75%</th>\n",
       "      <td>64.000</td>\n",
       "    </tr>\n",
       "    <tr>\n",
       "      <th>max</th>\n",
       "      <td>100.000</td>\n",
       "    </tr>\n",
       "  </tbody>\n",
       "</table>\n",
       "</div>"
      ],
      "text/plain": [
       "            Rank\n",
       "count  50300.000\n",
       "mean      43.946\n",
       "std       26.099\n",
       "min        1.000\n",
       "25%       22.000\n",
       "50%       43.000\n",
       "75%       64.000\n",
       "max      100.000"
      ]
     },
     "execution_count": 66,
     "metadata": {},
     "output_type": "execute_result"
    }
   ],
   "source": [
    "weeklyCharts.describe()"
   ]
  },
  {
   "cell_type": "code",
   "execution_count": 69,
   "id": "dutch-canyon",
   "metadata": {},
   "outputs": [
    {
     "data": {
      "text/plain": [
       "Index(['VW', ' ArtistAndTitle', ' WeeksAndPeak', ' Rank', ' Week'], dtype='object')"
      ]
     },
     "execution_count": 69,
     "metadata": {},
     "output_type": "execute_result"
    }
   ],
   "source": [
    "weeklyCharts.columns"
   ]
  },
  {
   "cell_type": "code",
   "execution_count": 70,
   "id": "timely-interstate",
   "metadata": {},
   "outputs": [
    {
     "data": {
      "text/html": [
       "<div>\n",
       "<style scoped>\n",
       "    .dataframe tbody tr th:only-of-type {\n",
       "        vertical-align: middle;\n",
       "    }\n",
       "\n",
       "    .dataframe tbody tr th {\n",
       "        vertical-align: top;\n",
       "    }\n",
       "\n",
       "    .dataframe thead th {\n",
       "        text-align: right;\n",
       "    }\n",
       "</style>\n",
       "<table border=\"1\" class=\"dataframe\">\n",
       "  <thead>\n",
       "    <tr style=\"text-align: right;\">\n",
       "      <th></th>\n",
       "      <th>VW</th>\n",
       "      <th>ArtistAndTitle</th>\n",
       "      <th>WeeksAndPeak</th>\n",
       "      <th>Rank</th>\n",
       "      <th>Week</th>\n",
       "    </tr>\n",
       "  </thead>\n",
       "  <tbody>\n",
       "    <tr>\n",
       "      <th>50290</th>\n",
       "      <td>VW 24</td>\n",
       "      <td>Kygo feat. Conrad&lt;/b&gt;&lt;br/&gt;...</td>\n",
       "      <td>200</td>\n",
       "      <td>26</td>\n",
       "      <td>2015-08-23</td>\n",
       "    </tr>\n",
       "    <tr>\n",
       "      <th>50291</th>\n",
       "      <td>neu</td>\n",
       "      <td>Huky&lt;/b&gt;&lt;br/&gt;Kids Of The S...</td>\n",
       "      <td>200</td>\n",
       "      <td>57</td>\n",
       "      <td>2017-08-27</td>\n",
       "    </tr>\n",
       "    <tr>\n",
       "      <th>50292</th>\n",
       "      <td>re</td>\n",
       "      <td>YNW Melly&lt;/b&gt;&lt;br/&gt;Suicidal...</td>\n",
       "      <td>200</td>\n",
       "      <td>76</td>\n",
       "      <td>2020-03-22</td>\n",
       "    </tr>\n",
       "    <tr>\n",
       "      <th>50293</th>\n",
       "      <td>VW 30</td>\n",
       "      <td>Rihanna&lt;/b&gt;&lt;br/&gt;Love On Th...</td>\n",
       "      <td>200</td>\n",
       "      <td>29</td>\n",
       "      <td>2017-03-26</td>\n",
       "    </tr>\n",
       "    <tr>\n",
       "      <th>50294</th>\n",
       "      <td>neu</td>\n",
       "      <td>DJ Antoine feat. Akon&lt;/b&gt;&lt;...</td>\n",
       "      <td>200</td>\n",
       "      <td>8</td>\n",
       "      <td>2015-12-07</td>\n",
       "    </tr>\n",
       "    <tr>\n",
       "      <th>50295</th>\n",
       "      <td>neu</td>\n",
       "      <td>Rita Ora&lt;/b&gt;&lt;br/&gt;How We Do...</td>\n",
       "      <td>200</td>\n",
       "      <td>41</td>\n",
       "      <td>2012-10-14</td>\n",
       "    </tr>\n",
       "    <tr>\n",
       "      <th>50296</th>\n",
       "      <td>VW 16</td>\n",
       "      <td>Bonez MC &amp;amp; RAF Camora&lt;...</td>\n",
       "      <td>200</td>\n",
       "      <td>21</td>\n",
       "      <td>2018-10-28</td>\n",
       "    </tr>\n",
       "    <tr>\n",
       "      <th>50297</th>\n",
       "      <td>VW 2</td>\n",
       "      <td>Avicii&lt;/b&gt;&lt;br/&gt;Wake Me Up!...</td>\n",
       "      <td>200</td>\n",
       "      <td>3</td>\n",
       "      <td>2013-10-27</td>\n",
       "    </tr>\n",
       "    <tr>\n",
       "      <th>50298</th>\n",
       "      <td>re</td>\n",
       "      <td>Müslüm&lt;/b&gt;&lt;br/&gt;Süpervitami...</td>\n",
       "      <td>200</td>\n",
       "      <td>55</td>\n",
       "      <td>2012-07-10</td>\n",
       "    </tr>\n",
       "    <tr>\n",
       "      <th>50299</th>\n",
       "      <td>VW 47</td>\n",
       "      <td>Flo Rida&lt;/b&gt;&lt;br/&gt;My House&lt;/a&gt;</td>\n",
       "      <td>200</td>\n",
       "      <td>38</td>\n",
       "      <td>2016-02-14</td>\n",
       "    </tr>\n",
       "  </tbody>\n",
       "</table>\n",
       "</div>"
      ],
      "text/plain": [
       "          VW                 ArtistAndTitle  WeeksAndPeak   Rank       Week\n",
       "50290  VW 24  Kygo feat. Conrad</b><br/>...           200     26 2015-08-23\n",
       "50291    neu  Huky</b><br/>Kids Of The S...           200     57 2017-08-27\n",
       "50292     re  YNW Melly</b><br/>Suicidal...           200     76 2020-03-22\n",
       "50293  VW 30  Rihanna</b><br/>Love On Th...           200     29 2017-03-26\n",
       "50294    neu  DJ Antoine feat. Akon</b><...           200      8 2015-12-07\n",
       "50295    neu  Rita Ora</b><br/>How We Do...           200     41 2012-10-14\n",
       "50296  VW 16  Bonez MC &amp; RAF Camora<...           200     21 2018-10-28\n",
       "50297   VW 2  Avicii</b><br/>Wake Me Up!...           200      3 2013-10-27\n",
       "50298     re  Müslüm</b><br/>Süpervitami...           200     55 2012-07-10\n",
       "50299  VW 47  Flo Rida</b><br/>My House</a>           200     38 2016-02-14"
      ]
     },
     "execution_count": 70,
     "metadata": {},
     "output_type": "execute_result"
    }
   ],
   "source": [
    "weeklyCharts.loc[weeklyCharts[' WeeksAndPeak'] == '200']"
   ]
  },
  {
   "cell_type": "code",
   "execution_count": 46,
   "id": "defined-logistics",
   "metadata": {},
   "outputs": [
    {
     "data": {
      "text/plain": [
       "Index(['VW', ' ArtistAndTitle', ' WeeksAndPeak', ' Rank', ' Week'], dtype='object')"
      ]
     },
     "execution_count": 46,
     "metadata": {},
     "output_type": "execute_result"
    }
   ],
   "source": [
    "weeklyCharts.columns"
   ]
  },
  {
   "cell_type": "markdown",
   "id": "mathematical-profit",
   "metadata": {},
   "source": [
    "# Data Preparation "
   ]
  },
  {
   "cell_type": "markdown",
   "id": "coastal-spiritual",
   "metadata": {},
   "source": [
    "### Create new columns\n",
    "\n",
    "Add four new columns Artist + Title + Week + Peak"
   ]
  },
  {
   "cell_type": "code",
   "execution_count": 47,
   "id": "educated-commitment",
   "metadata": {},
   "outputs": [],
   "source": [
    "weeklyCharts['Artist'] = weeklyCharts[' ArtistAndTitle']\n",
    "weeklyCharts['Title'] = weeklyCharts[' ArtistAndTitle']\n",
    "weeklyCharts['Week(s) in Charts'] = weeklyCharts[' WeeksAndPeak']\n",
    "weeklyCharts['Peak'] = weeklyCharts[' WeeksAndPeak']"
   ]
  },
  {
   "cell_type": "code",
   "execution_count": 48,
   "id": "geological-library",
   "metadata": {},
   "outputs": [
    {
     "data": {
      "text/plain": [
       "Index(['VW', ' ArtistAndTitle', ' WeeksAndPeak', ' Rank', ' Week', 'Artist',\n",
       "       'Title', 'Week(s) in Charts', 'Peak'],\n",
       "      dtype='object')"
      ]
     },
     "execution_count": 48,
     "metadata": {},
     "output_type": "execute_result"
    }
   ],
   "source": [
    "weeklyCharts.columns"
   ]
  },
  {
   "cell_type": "markdown",
   "id": "cosmetic-scanner",
   "metadata": {},
   "source": [
    "### Remove unneeded columns\n",
    "\n",
    "Remove two columns from data frame (' ArtistAndTitle' + ' WeeksAndPeak')"
   ]
  },
  {
   "cell_type": "code",
   "execution_count": 49,
   "id": "military-visitor",
   "metadata": {},
   "outputs": [],
   "source": [
    "del weeklyCharts[' ArtistAndTitle']\n",
    "del weeklyCharts[' WeeksAndPeak']"
   ]
  },
  {
   "cell_type": "code",
   "execution_count": 50,
   "id": "contrary-grounds",
   "metadata": {},
   "outputs": [
    {
     "data": {
      "text/plain": [
       "Index(['VW', ' Rank', ' Week', 'Artist', 'Title', 'Week(s) in Charts', 'Peak'], dtype='object')"
      ]
     },
     "execution_count": 50,
     "metadata": {},
     "output_type": "execute_result"
    }
   ],
   "source": [
    "weeklyCharts.columns"
   ]
  },
  {
   "cell_type": "markdown",
   "id": "increased-projector",
   "metadata": {},
   "source": [
    "## Clean individual Columns\n",
    "\n",
    "Remove the Peak from the \"Week(s) in Charts\" column"
   ]
  },
  {
   "cell_type": "code",
   "execution_count": 13,
   "id": "alleged-annual",
   "metadata": {},
   "outputs": [],
   "source": [
    "weeklyCharts[\"Week(s) in Charts\"] = weeklyCharts[\"Week(s) in Charts\"].map(lambda n: str(n).split(\"|\")[0])"
   ]
  },
  {
   "cell_type": "markdown",
   "id": "blessed-queue",
   "metadata": {},
   "source": [
    "Remove the week from the \"Peak\" column"
   ]
  },
  {
   "cell_type": "code",
   "execution_count": 14,
   "id": "operational-sewing",
   "metadata": {},
   "outputs": [],
   "source": [
    "weeklyCharts[\"Peak\"] = weeklyCharts[\"Peak\"].map(lambda n: str(n).split(\"|\")[1])"
   ]
  },
  {
   "cell_type": "code",
   "execution_count": 15,
   "id": "ranking-bahamas",
   "metadata": {},
   "outputs": [
    {
     "data": {
      "text/plain": [
       "27375     P 24\n",
       "25696     P 16\n",
       "1551      P 30\n",
       "27346     P 97\n",
       "22427      P 1\n",
       "10970     P 17\n",
       "6798      P 10\n",
       "32387     P 38\n",
       "32103     P 10\n",
       "37326     P 14\n",
       "Name: Peak, dtype: object"
      ]
     },
     "execution_count": 15,
     "metadata": {},
     "output_type": "execute_result"
    }
   ],
   "source": [
    "weeklyCharts[\"Peak\"].sample(10)"
   ]
  },
  {
   "cell_type": "markdown",
   "id": "touched-globe",
   "metadata": {},
   "source": [
    "Remove \"W\" and \"P\" from \"Week(s) in Charts\" and \"Peak\""
   ]
  },
  {
   "cell_type": "code",
   "execution_count": 16,
   "id": "hourly-savage",
   "metadata": {},
   "outputs": [
    {
     "data": {
      "text/plain": [
       "39651     1 \n",
       "20891     8 \n",
       "30416    21 \n",
       "2624      7 \n",
       "5543     21 \n",
       "16330     1 \n",
       "36266    14 \n",
       "45224    29 \n",
       "41358    16 \n",
       "20036    25 \n",
       "Name: Week(s) in Charts, dtype: object"
      ]
     },
     "execution_count": 16,
     "metadata": {},
     "output_type": "execute_result"
    }
   ],
   "source": [
    "weeklyCharts[\"Week(s) in Charts\"] = weeklyCharts[\"Week(s) in Charts\"].str.replace('W ','',regex=True)\n",
    "weeklyCharts[\"Week(s) in Charts\"].sample(10)"
   ]
  },
  {
   "cell_type": "code",
   "execution_count": 17,
   "id": "swedish-program",
   "metadata": {},
   "outputs": [
    {
     "data": {
      "text/plain": [
       "35434     50\n",
       "37089     26\n",
       "37385      1\n",
       "41967      3\n",
       "28853      3\n",
       "20527     21\n",
       "13931     23\n",
       "7735       7\n",
       "34128     44\n",
       "25507      8\n",
       "Name: Peak, dtype: object"
      ]
     },
     "execution_count": 17,
     "metadata": {},
     "output_type": "execute_result"
    }
   ],
   "source": [
    "weeklyCharts[\"Peak\"] = weeklyCharts[\"Peak\"].str.replace('P ','',regex=True)\n",
    "weeklyCharts[\"Peak\"].sample(10)"
   ]
  },
  {
   "cell_type": "markdown",
   "id": "circular-register",
   "metadata": {},
   "source": [
    "How does our data look at the moment?\n",
    "Looks like we still need to clean the column \"VW\", \"Artist\" and \"Title\""
   ]
  },
  {
   "cell_type": "code",
   "execution_count": 18,
   "id": "naughty-prince",
   "metadata": {},
   "outputs": [
    {
     "data": {
      "text/html": [
       "<div>\n",
       "<style scoped>\n",
       "    .dataframe tbody tr th:only-of-type {\n",
       "        vertical-align: middle;\n",
       "    }\n",
       "\n",
       "    .dataframe tbody tr th {\n",
       "        vertical-align: top;\n",
       "    }\n",
       "\n",
       "    .dataframe thead th {\n",
       "        text-align: right;\n",
       "    }\n",
       "</style>\n",
       "<table border=\"1\" class=\"dataframe\">\n",
       "  <thead>\n",
       "    <tr style=\"text-align: right;\">\n",
       "      <th></th>\n",
       "      <th>VW</th>\n",
       "      <th>Rank</th>\n",
       "      <th>Week</th>\n",
       "      <th>Artist</th>\n",
       "      <th>Title</th>\n",
       "      <th>Week(s) in Charts</th>\n",
       "      <th>Peak</th>\n",
       "    </tr>\n",
       "  </thead>\n",
       "  <tbody>\n",
       "    <tr>\n",
       "      <th>45225</th>\n",
       "      <td>VW 80</td>\n",
       "      <td>76</td>\n",
       "      <td>2020-05-24</td>\n",
       "      <td>Sam Feldt feat. Rani&lt;/b&gt;&lt;b...</td>\n",
       "      <td>Sam Feldt feat. Rani&lt;/b&gt;&lt;b...</td>\n",
       "      <td>30</td>\n",
       "      <td>59</td>\n",
       "    </tr>\n",
       "    <tr>\n",
       "      <th>5450</th>\n",
       "      <td>VW 43</td>\n",
       "      <td>51</td>\n",
       "      <td>2011-05-29</td>\n",
       "      <td>Israel IZ Kamakawiwo'ole&lt;/...</td>\n",
       "      <td>Israel IZ Kamakawiwo'ole&lt;/...</td>\n",
       "      <td>36</td>\n",
       "      <td>3</td>\n",
       "    </tr>\n",
       "    <tr>\n",
       "      <th>330</th>\n",
       "      <td>VW 33</td>\n",
       "      <td>31</td>\n",
       "      <td>2010-01-31</td>\n",
       "      <td>The Black Eyed Peas&lt;/b&gt;&lt;br...</td>\n",
       "      <td>The Black Eyed Peas&lt;/b&gt;&lt;br...</td>\n",
       "      <td>40</td>\n",
       "      <td>4</td>\n",
       "    </tr>\n",
       "    <tr>\n",
       "      <th>6099</th>\n",
       "      <td>VW 25</td>\n",
       "      <td>25</td>\n",
       "      <td>2011-07-31</td>\n",
       "      <td>Katy Perry&lt;/b&gt;&lt;br/&gt;Last Fr...</td>\n",
       "      <td>Katy Perry&lt;/b&gt;&lt;br/&gt;Last Fr...</td>\n",
       "      <td>5</td>\n",
       "      <td>20</td>\n",
       "    </tr>\n",
       "    <tr>\n",
       "      <th>48636</th>\n",
       "      <td>VW 72</td>\n",
       "      <td>87</td>\n",
       "      <td>2021-04-18</td>\n",
       "      <td>Tones And I&lt;/b&gt;&lt;br/&gt;Fly Aw...</td>\n",
       "      <td>Tones And I&lt;/b&gt;&lt;br/&gt;Fly Aw...</td>\n",
       "      <td>16</td>\n",
       "      <td>30</td>\n",
       "    </tr>\n",
       "    <tr>\n",
       "      <th>23527</th>\n",
       "      <td>VW 44</td>\n",
       "      <td>53</td>\n",
       "      <td>2016-01-24</td>\n",
       "      <td>Felix Jaehn feat. Jasmine ...</td>\n",
       "      <td>Felix Jaehn feat. Jasmine ...</td>\n",
       "      <td>42</td>\n",
       "      <td>5</td>\n",
       "    </tr>\n",
       "    <tr>\n",
       "      <th>48561</th>\n",
       "      <td>VW 11</td>\n",
       "      <td>12</td>\n",
       "      <td>2021-04-18</td>\n",
       "      <td>Zoe Wees&lt;/b&gt;&lt;br/&gt;Girls Lik...</td>\n",
       "      <td>Zoe Wees&lt;/b&gt;&lt;br/&gt;Girls Lik...</td>\n",
       "      <td>13</td>\n",
       "      <td>3</td>\n",
       "    </tr>\n",
       "    <tr>\n",
       "      <th>41026</th>\n",
       "      <td>VW 93</td>\n",
       "      <td>77</td>\n",
       "      <td>2019-04-08</td>\n",
       "      <td>Sarah Connor&lt;/b&gt;&lt;br/&gt;Vince...</td>\n",
       "      <td>Sarah Connor&lt;/b&gt;&lt;br/&gt;Vince...</td>\n",
       "      <td>9</td>\n",
       "      <td>38</td>\n",
       "    </tr>\n",
       "    <tr>\n",
       "      <th>2084</th>\n",
       "      <td>VW 57</td>\n",
       "      <td>60</td>\n",
       "      <td>2010-11-07</td>\n",
       "      <td>Lady Gaga&lt;/b&gt;&lt;br/&gt;Bad Roma...</td>\n",
       "      <td>Lady Gaga&lt;/b&gt;&lt;br/&gt;Bad Roma...</td>\n",
       "      <td>34</td>\n",
       "      <td>2</td>\n",
       "    </tr>\n",
       "    <tr>\n",
       "      <th>27410</th>\n",
       "      <td>VW 40</td>\n",
       "      <td>61</td>\n",
       "      <td>2016-12-25</td>\n",
       "      <td>Remady &amp;amp; Manu-L&lt;/b&gt;&lt;br...</td>\n",
       "      <td>Remady &amp;amp; Manu-L&lt;/b&gt;&lt;br...</td>\n",
       "      <td>7</td>\n",
       "      <td>14</td>\n",
       "    </tr>\n",
       "  </tbody>\n",
       "</table>\n",
       "</div>"
      ],
      "text/plain": [
       "          VW   Rank       Week                         Artist  \\\n",
       "45225  VW 80     76 2020-05-24  Sam Feldt feat. Rani</b><b...   \n",
       "5450   VW 43     51 2011-05-29  Israel IZ Kamakawiwo'ole</...   \n",
       "330    VW 33     31 2010-01-31  The Black Eyed Peas</b><br...   \n",
       "6099   VW 25     25 2011-07-31  Katy Perry</b><br/>Last Fr...   \n",
       "48636  VW 72     87 2021-04-18  Tones And I</b><br/>Fly Aw...   \n",
       "23527  VW 44     53 2016-01-24  Felix Jaehn feat. Jasmine ...   \n",
       "48561  VW 11     12 2021-04-18  Zoe Wees</b><br/>Girls Lik...   \n",
       "41026  VW 93     77 2019-04-08  Sarah Connor</b><br/>Vince...   \n",
       "2084   VW 57     60 2010-11-07  Lady Gaga</b><br/>Bad Roma...   \n",
       "27410  VW 40     61 2016-12-25  Remady &amp; Manu-L</b><br...   \n",
       "\n",
       "                               Title Week(s) in Charts Peak  \n",
       "45225  Sam Feldt feat. Rani</b><b...               30    59  \n",
       "5450   Israel IZ Kamakawiwo'ole</...               36     3  \n",
       "330    The Black Eyed Peas</b><br...               40     4  \n",
       "6099   Katy Perry</b><br/>Last Fr...                5    20  \n",
       "48636  Tones And I</b><br/>Fly Aw...               16    30  \n",
       "23527  Felix Jaehn feat. Jasmine ...               42     5  \n",
       "48561  Zoe Wees</b><br/>Girls Lik...               13     3  \n",
       "41026  Sarah Connor</b><br/>Vince...                9    38  \n",
       "2084   Lady Gaga</b><br/>Bad Roma...               34     2  \n",
       "27410  Remady &amp; Manu-L</b><br...                7    14  "
      ]
     },
     "execution_count": 18,
     "metadata": {},
     "output_type": "execute_result"
    }
   ],
   "source": [
    "weeklyCharts.sample(10)"
   ]
  },
  {
   "cell_type": "code",
   "execution_count": 19,
   "id": "colored-organic",
   "metadata": {},
   "outputs": [
    {
     "data": {
      "text/plain": [
       "neu       4765\n",
       "re        2649\n",
       "VW 1       590\n",
       "VW 2       589\n",
       "VW 7       588\n",
       "          ... \n",
       "VW 95       88\n",
       "VW 98       87\n",
       "VW 97       85\n",
       "VW 99       84\n",
       "VW 100      72\n",
       "Name: VW, Length: 102, dtype: int64"
      ]
     },
     "execution_count": 19,
     "metadata": {},
     "output_type": "execute_result"
    }
   ],
   "source": [
    "weeklyCharts[\"VW\"].value_counts()"
   ]
  },
  {
   "cell_type": "markdown",
   "id": "super-rapid",
   "metadata": {},
   "source": [
    "1) First we will remove the \"VW\""
   ]
  },
  {
   "cell_type": "code",
   "execution_count": 20,
   "id": "underlying-radio",
   "metadata": {},
   "outputs": [
    {
     "data": {
      "text/plain": [
       "neu    4765\n",
       "re     2649\n",
       "1       590\n",
       "2       589\n",
       "5       588\n",
       "       ... \n",
       "95       88\n",
       "98       87\n",
       "97       85\n",
       "99       84\n",
       "100      72\n",
       "Name: VW, Length: 102, dtype: int64"
      ]
     },
     "execution_count": 20,
     "metadata": {},
     "output_type": "execute_result"
    }
   ],
   "source": [
    "weeklyCharts[\"VW\"] = weeklyCharts[\"VW\"].str.replace('VW ','',regex=True)\n",
    "weeklyCharts[\"VW\"].value_counts()"
   ]
  },
  {
   "cell_type": "markdown",
   "id": "british-granny",
   "metadata": {},
   "source": [
    "2) Second, we rename the values \"neu\" to \"new\" and \"re\" to \"returned\""
   ]
  },
  {
   "cell_type": "code",
   "execution_count": 21,
   "id": "spare-salvation",
   "metadata": {},
   "outputs": [
    {
     "data": {
      "text/plain": [
       "New       4765\n",
       "Return    2649\n",
       "1          590\n",
       "2          589\n",
       "5          588\n",
       "          ... \n",
       "95          88\n",
       "98          87\n",
       "97          85\n",
       "99          84\n",
       "100         72\n",
       "Name: VW, Length: 102, dtype: int64"
      ]
     },
     "execution_count": 21,
     "metadata": {},
     "output_type": "execute_result"
    }
   ],
   "source": [
    "weeklyCharts[\"VW\"] = weeklyCharts[\"VW\"].str.replace('neu','New',regex=True)\n",
    "weeklyCharts[\"VW\"] = weeklyCharts[\"VW\"].str.replace('re','Return',regex=True)\n",
    "weeklyCharts[\"VW\"].value_counts()"
   ]
  },
  {
   "cell_type": "markdown",
   "id": "every-position",
   "metadata": {},
   "source": [
    "Now we need to clean the \"Artist\" and \"Title\" column"
   ]
  },
  {
   "cell_type": "code",
   "execution_count": 22,
   "id": "comparable-defensive",
   "metadata": {},
   "outputs": [
    {
     "data": {
      "text/html": [
       "<div>\n",
       "<style scoped>\n",
       "    .dataframe tbody tr th:only-of-type {\n",
       "        vertical-align: middle;\n",
       "    }\n",
       "\n",
       "    .dataframe tbody tr th {\n",
       "        vertical-align: top;\n",
       "    }\n",
       "\n",
       "    .dataframe thead th {\n",
       "        text-align: right;\n",
       "    }\n",
       "</style>\n",
       "<table border=\"1\" class=\"dataframe\">\n",
       "  <thead>\n",
       "    <tr style=\"text-align: right;\">\n",
       "      <th></th>\n",
       "      <th>VW</th>\n",
       "      <th>Rank</th>\n",
       "      <th>Week</th>\n",
       "      <th>Artist</th>\n",
       "      <th>Title</th>\n",
       "      <th>Week(s) in Charts</th>\n",
       "      <th>Peak</th>\n",
       "    </tr>\n",
       "  </thead>\n",
       "  <tbody>\n",
       "    <tr>\n",
       "      <th>24157</th>\n",
       "      <td>9</td>\n",
       "      <td>8</td>\n",
       "      <td>2016-03-27</td>\n",
       "      <td>Coldplay&lt;/b&gt;&lt;br/&gt;Hymn For ...</td>\n",
       "      <td>Coldplay&lt;/b&gt;&lt;br/&gt;Hymn For ...</td>\n",
       "      <td>10</td>\n",
       "      <td>8</td>\n",
       "    </tr>\n",
       "    <tr>\n",
       "      <th>7629</th>\n",
       "      <td>47</td>\n",
       "      <td>55</td>\n",
       "      <td>2011-12-18</td>\n",
       "      <td>Cobra Starship feat. Sabi&lt;...</td>\n",
       "      <td>Cobra Starship feat. Sabi&lt;...</td>\n",
       "      <td>5</td>\n",
       "      <td>47</td>\n",
       "    </tr>\n",
       "    <tr>\n",
       "      <th>21285</th>\n",
       "      <td>49</td>\n",
       "      <td>61</td>\n",
       "      <td>2015-06-28</td>\n",
       "      <td>Tiësto &amp;amp; KSHMR feat. V...</td>\n",
       "      <td>Tiësto &amp;amp; KSHMR feat. V...</td>\n",
       "      <td>3</td>\n",
       "      <td>31</td>\n",
       "    </tr>\n",
       "    <tr>\n",
       "      <th>11730</th>\n",
       "      <td>36</td>\n",
       "      <td>31</td>\n",
       "      <td>2013-01-20</td>\n",
       "      <td>Triggerfinger&lt;/b&gt;&lt;br/&gt;I Fo...</td>\n",
       "      <td>Triggerfinger&lt;/b&gt;&lt;br/&gt;I Fo...</td>\n",
       "      <td>26</td>\n",
       "      <td>17</td>\n",
       "    </tr>\n",
       "    <tr>\n",
       "      <th>31767</th>\n",
       "      <td>20</td>\n",
       "      <td>18</td>\n",
       "      <td>2017-10-29</td>\n",
       "      <td>Kygo feat. Justin Jesso&lt;/b...</td>\n",
       "      <td>Kygo feat. Justin Jesso&lt;/b...</td>\n",
       "      <td>5</td>\n",
       "      <td>9</td>\n",
       "    </tr>\n",
       "    <tr>\n",
       "      <th>11660</th>\n",
       "      <td>35</td>\n",
       "      <td>36</td>\n",
       "      <td>2013-01-13</td>\n",
       "      <td>Triggerfinger&lt;/b&gt;&lt;br/&gt;I Fo...</td>\n",
       "      <td>Triggerfinger&lt;/b&gt;&lt;br/&gt;I Fo...</td>\n",
       "      <td>25</td>\n",
       "      <td>17</td>\n",
       "    </tr>\n",
       "    <tr>\n",
       "      <th>28261</th>\n",
       "      <td>11</td>\n",
       "      <td>12</td>\n",
       "      <td>2017-02-26</td>\n",
       "      <td>77 Bombay Street&lt;/b&gt;&lt;br/&gt;E...</td>\n",
       "      <td>77 Bombay Street&lt;/b&gt;&lt;br/&gt;E...</td>\n",
       "      <td>13</td>\n",
       "      <td>11</td>\n",
       "    </tr>\n",
       "    <tr>\n",
       "      <th>35065</th>\n",
       "      <td>8</td>\n",
       "      <td>16</td>\n",
       "      <td>2018-06-17</td>\n",
       "      <td>Shawn Mendes&lt;/b&gt;&lt;br/&gt;In My...</td>\n",
       "      <td>Shawn Mendes&lt;/b&gt;&lt;br/&gt;In My...</td>\n",
       "      <td>13</td>\n",
       "      <td>5</td>\n",
       "    </tr>\n",
       "    <tr>\n",
       "      <th>16058</th>\n",
       "      <td>12</td>\n",
       "      <td>9</td>\n",
       "      <td>2014-02-03</td>\n",
       "      <td>Klingande&lt;/b&gt;&lt;br/&gt;Jubel&lt;/a&gt;</td>\n",
       "      <td>Klingande&lt;/b&gt;&lt;br/&gt;Jubel&lt;/a&gt;</td>\n",
       "      <td>23</td>\n",
       "      <td>1</td>\n",
       "    </tr>\n",
       "    <tr>\n",
       "      <th>37488</th>\n",
       "      <td>31</td>\n",
       "      <td>39</td>\n",
       "      <td>2018-02-12</td>\n",
       "      <td>Lady Gaga &amp;amp; Bradley Co...</td>\n",
       "      <td>Lady Gaga &amp;amp; Bradley Co...</td>\n",
       "      <td>8</td>\n",
       "      <td>14</td>\n",
       "    </tr>\n",
       "  </tbody>\n",
       "</table>\n",
       "</div>"
      ],
      "text/plain": [
       "       VW   Rank       Week                         Artist  \\\n",
       "24157   9      8 2016-03-27  Coldplay</b><br/>Hymn For ...   \n",
       "7629   47     55 2011-12-18  Cobra Starship feat. Sabi<...   \n",
       "21285  49     61 2015-06-28  Tiësto &amp; KSHMR feat. V...   \n",
       "11730  36     31 2013-01-20  Triggerfinger</b><br/>I Fo...   \n",
       "31767  20     18 2017-10-29  Kygo feat. Justin Jesso</b...   \n",
       "11660  35     36 2013-01-13  Triggerfinger</b><br/>I Fo...   \n",
       "28261  11     12 2017-02-26  77 Bombay Street</b><br/>E...   \n",
       "35065   8     16 2018-06-17  Shawn Mendes</b><br/>In My...   \n",
       "16058  12      9 2014-02-03    Klingande</b><br/>Jubel</a>   \n",
       "37488  31     39 2018-02-12  Lady Gaga &amp; Bradley Co...   \n",
       "\n",
       "                               Title Week(s) in Charts Peak  \n",
       "24157  Coldplay</b><br/>Hymn For ...               10     8  \n",
       "7629   Cobra Starship feat. Sabi<...                5    47  \n",
       "21285  Tiësto &amp; KSHMR feat. V...                3    31  \n",
       "11730  Triggerfinger</b><br/>I Fo...               26    17  \n",
       "31767  Kygo feat. Justin Jesso</b...                5     9  \n",
       "11660  Triggerfinger</b><br/>I Fo...               25    17  \n",
       "28261  77 Bombay Street</b><br/>E...               13    11  \n",
       "35065  Shawn Mendes</b><br/>In My...               13     5  \n",
       "16058    Klingande</b><br/>Jubel</a>               23     1  \n",
       "37488  Lady Gaga &amp; Bradley Co...                8    14  "
      ]
     },
     "execution_count": 22,
     "metadata": {},
     "output_type": "execute_result"
    }
   ],
   "source": [
    "weeklyCharts.sample(10)"
   ]
  },
  {
   "cell_type": "code",
   "execution_count": 23,
   "id": "continuing-income",
   "metadata": {},
   "outputs": [],
   "source": [
    "weeklyCharts[\"Artist\"] = weeklyCharts[\"Artist\"].map(lambda n: str(n).split(\"<br/>\")[0])\n",
    "weeklyCharts[\"Artist\"] = weeklyCharts[\"Artist\"].str.replace('</b>','',regex=True)"
   ]
  },
  {
   "cell_type": "code",
   "execution_count": 24,
   "id": "adolescent-hopkins",
   "metadata": {},
   "outputs": [],
   "source": [
    "weeklyCharts[\"Title\"] = weeklyCharts[\"Title\"].map(lambda n: str(n).split(\"<br/>\")[1])"
   ]
  },
  {
   "cell_type": "code",
   "execution_count": 25,
   "id": "occasional-representation",
   "metadata": {},
   "outputs": [
    {
     "data": {
      "text/plain": [
       "38654                       DNA</a>\n",
       "23191               Marvin Gaye</a>\n",
       "48666               Without You</a>\n",
       "36816                       UFF</a>\n",
       "14664    We Will Never Grow Old</a>\n",
       "Name: Title, dtype: object"
      ]
     },
     "execution_count": 25,
     "metadata": {},
     "output_type": "execute_result"
    }
   ],
   "source": [
    "weeklyCharts[\"Title\"].sample(5)"
   ]
  },
  {
   "cell_type": "code",
   "execution_count": 26,
   "id": "dirty-manual",
   "metadata": {},
   "outputs": [],
   "source": [
    "weeklyCharts[\"Title\"] = weeklyCharts[\"Title\"].str.replace('</a>','',regex=True)"
   ]
  },
  {
   "cell_type": "code",
   "execution_count": 27,
   "id": "ranking-supplement",
   "metadata": {},
   "outputs": [
    {
     "data": {
      "text/plain": [
       "9277                         Hangover\n",
       "26942                        Too Good\n",
       "11798    She Wolf (Falling To Pieces)\n",
       "25288            Hymn For The Weekend\n",
       "43988                         Feel Me\n",
       "18079                      Chandelier\n",
       "16299                         Animals\n",
       "33014                       My My My!\n",
       "1468                     It No Pretty\n",
       "34030      Mi gna (Maître Gims Remix)\n",
       "16674                  Dernière danse\n",
       "30473                        Alperose\n",
       "28406                Don't Wanna Know\n",
       "10709                        Titanium\n",
       "12653                        Daylight\n",
       "37040                            Fall\n",
       "31733                          Issues\n",
       "21596                           Bills\n",
       "27338                           Hurts\n",
       "7853                        5 O'Clock\n",
       "Name: Title, dtype: object"
      ]
     },
     "execution_count": 27,
     "metadata": {},
     "output_type": "execute_result"
    }
   ],
   "source": [
    "weeklyCharts[\"Title\"].sample(20)"
   ]
  },
  {
   "cell_type": "code",
   "execution_count": 28,
   "id": "funny-communications",
   "metadata": {
    "scrolled": true
   },
   "outputs": [
    {
     "data": {
      "text/html": [
       "<div>\n",
       "<style scoped>\n",
       "    .dataframe tbody tr th:only-of-type {\n",
       "        vertical-align: middle;\n",
       "    }\n",
       "\n",
       "    .dataframe tbody tr th {\n",
       "        vertical-align: top;\n",
       "    }\n",
       "\n",
       "    .dataframe thead th {\n",
       "        text-align: right;\n",
       "    }\n",
       "</style>\n",
       "<table border=\"1\" class=\"dataframe\">\n",
       "  <thead>\n",
       "    <tr style=\"text-align: right;\">\n",
       "      <th></th>\n",
       "      <th>VW</th>\n",
       "      <th>Rank</th>\n",
       "      <th>Week</th>\n",
       "      <th>Artist</th>\n",
       "      <th>Title</th>\n",
       "      <th>Week(s) in Charts</th>\n",
       "      <th>Peak</th>\n",
       "    </tr>\n",
       "  </thead>\n",
       "  <tbody>\n",
       "    <tr>\n",
       "      <th>7748</th>\n",
       "      <td>31</td>\n",
       "      <td>24</td>\n",
       "      <td>2012-08-01</td>\n",
       "      <td>David Guetta feat. Sia</td>\n",
       "      <td>Titanium</td>\n",
       "      <td>20</td>\n",
       "      <td>10</td>\n",
       "    </tr>\n",
       "    <tr>\n",
       "      <th>37657</th>\n",
       "      <td>22</td>\n",
       "      <td>8</td>\n",
       "      <td>2018-12-16</td>\n",
       "      <td>Imagine Dragons</td>\n",
       "      <td>Bad Liar</td>\n",
       "      <td>5</td>\n",
       "      <td>8</td>\n",
       "    </tr>\n",
       "  </tbody>\n",
       "</table>\n",
       "</div>"
      ],
      "text/plain": [
       "       VW   Rank       Week                  Artist     Title  \\\n",
       "7748   31     24 2012-08-01  David Guetta feat. Sia  Titanium   \n",
       "37657  22      8 2018-12-16         Imagine Dragons  Bad Liar   \n",
       "\n",
       "      Week(s) in Charts Peak  \n",
       "7748                20    10  \n",
       "37657                5     8  "
      ]
     },
     "execution_count": 28,
     "metadata": {},
     "output_type": "execute_result"
    }
   ],
   "source": [
    "weeklyCharts.sample(2)"
   ]
  },
  {
   "cell_type": "code",
   "execution_count": 31,
   "id": "artificial-marble",
   "metadata": {},
   "outputs": [],
   "source": [
    "weeklyCharts = weeklyCharts.rename(columns = {\"VW\": \"PW\"}, inplace=False)"
   ]
  },
  {
   "cell_type": "code",
   "execution_count": 32,
   "id": "creative-arabic",
   "metadata": {},
   "outputs": [
    {
     "data": {
      "text/html": [
       "<div>\n",
       "<style scoped>\n",
       "    .dataframe tbody tr th:only-of-type {\n",
       "        vertical-align: middle;\n",
       "    }\n",
       "\n",
       "    .dataframe tbody tr th {\n",
       "        vertical-align: top;\n",
       "    }\n",
       "\n",
       "    .dataframe thead th {\n",
       "        text-align: right;\n",
       "    }\n",
       "</style>\n",
       "<table border=\"1\" class=\"dataframe\">\n",
       "  <thead>\n",
       "    <tr style=\"text-align: right;\">\n",
       "      <th></th>\n",
       "      <th>PW</th>\n",
       "      <th>Rank</th>\n",
       "      <th>Week</th>\n",
       "      <th>Artist</th>\n",
       "      <th>Title</th>\n",
       "      <th>Week(s) in Charts</th>\n",
       "      <th>Peak</th>\n",
       "    </tr>\n",
       "  </thead>\n",
       "  <tbody>\n",
       "    <tr>\n",
       "      <th>0</th>\n",
       "      <td>1</td>\n",
       "      <td>1</td>\n",
       "      <td>2010-03-01</td>\n",
       "      <td>Melanie Fiona</td>\n",
       "      <td>Monday Morning</td>\n",
       "      <td>10</td>\n",
       "      <td>1</td>\n",
       "    </tr>\n",
       "    <tr>\n",
       "      <th>1</th>\n",
       "      <td>2</td>\n",
       "      <td>2</td>\n",
       "      <td>2010-03-01</td>\n",
       "      <td>Rihanna</td>\n",
       "      <td>Russian Roulette</td>\n",
       "      <td>6</td>\n",
       "      <td>2</td>\n",
       "    </tr>\n",
       "    <tr>\n",
       "      <th>2</th>\n",
       "      <td>3</td>\n",
       "      <td>3</td>\n",
       "      <td>2010-03-01</td>\n",
       "      <td>The Black Eyed Peas</td>\n",
       "      <td>Meet Me Halfway</td>\n",
       "      <td>10</td>\n",
       "      <td>3</td>\n",
       "    </tr>\n",
       "    <tr>\n",
       "      <th>3</th>\n",
       "      <td>10</td>\n",
       "      <td>4</td>\n",
       "      <td>2010-03-01</td>\n",
       "      <td>Jay-Z + Alicia Keys</td>\n",
       "      <td>Empire State Of Mind</td>\n",
       "      <td>14</td>\n",
       "      <td>4</td>\n",
       "    </tr>\n",
       "    <tr>\n",
       "      <th>4</th>\n",
       "      <td>7</td>\n",
       "      <td>5</td>\n",
       "      <td>2010-03-01</td>\n",
       "      <td>OneRepublic</td>\n",
       "      <td>All The Right Moves</td>\n",
       "      <td>9</td>\n",
       "      <td>2</td>\n",
       "    </tr>\n",
       "    <tr>\n",
       "      <th>...</th>\n",
       "      <td>...</td>\n",
       "      <td>...</td>\n",
       "      <td>...</td>\n",
       "      <td>...</td>\n",
       "      <td>...</td>\n",
       "      <td>...</td>\n",
       "      <td>...</td>\n",
       "    </tr>\n",
       "    <tr>\n",
       "      <th>50245</th>\n",
       "      <td>37</td>\n",
       "      <td>37</td>\n",
       "      <td>2011-09-01</td>\n",
       "      <td>Nelly</td>\n",
       "      <td>Just A Dream</td>\n",
       "      <td>16</td>\n",
       "      <td>22</td>\n",
       "    </tr>\n",
       "    <tr>\n",
       "      <th>50246</th>\n",
       "      <td>1</td>\n",
       "      <td>1</td>\n",
       "      <td>2011-01-23</td>\n",
       "      <td>Duck Sauce</td>\n",
       "      <td>Barbra Streisand</td>\n",
       "      <td>12</td>\n",
       "      <td>1</td>\n",
       "    </tr>\n",
       "    <tr>\n",
       "      <th>50247</th>\n",
       "      <td>67</td>\n",
       "      <td>63</td>\n",
       "      <td>2018-06-24</td>\n",
       "      <td>Jason Derulo</td>\n",
       "      <td>Colors</td>\n",
       "      <td>5</td>\n",
       "      <td>63</td>\n",
       "    </tr>\n",
       "    <tr>\n",
       "      <th>50248</th>\n",
       "      <td>New</td>\n",
       "      <td>4</td>\n",
       "      <td>2020-03-29</td>\n",
       "      <td>Dardan &amp;amp; Monet192</td>\n",
       "      <td>H &amp;lt;3 T E L</td>\n",
       "      <td>1</td>\n",
       "      <td>4</td>\n",
       "    </tr>\n",
       "    <tr>\n",
       "      <th>50249</th>\n",
       "      <td>51</td>\n",
       "      <td>50</td>\n",
       "      <td>2018-10-21</td>\n",
       "      <td>LSD (Labrinth / Sia / Diplo)</td>\n",
       "      <td>Thunderclouds</td>\n",
       "      <td>7</td>\n",
       "      <td>50</td>\n",
       "    </tr>\n",
       "  </tbody>\n",
       "</table>\n",
       "<p>50250 rows × 7 columns</p>\n",
       "</div>"
      ],
      "text/plain": [
       "        PW   Rank       Week                        Artist  \\\n",
       "0        1      1 2010-03-01                 Melanie Fiona   \n",
       "1        2      2 2010-03-01                       Rihanna   \n",
       "2        3      3 2010-03-01           The Black Eyed Peas   \n",
       "3       10      4 2010-03-01           Jay-Z + Alicia Keys   \n",
       "4        7      5 2010-03-01                   OneRepublic   \n",
       "...    ...    ...        ...                           ...   \n",
       "50245   37     37 2011-09-01                         Nelly   \n",
       "50246    1      1 2011-01-23                    Duck Sauce   \n",
       "50247   67     63 2018-06-24                  Jason Derulo   \n",
       "50248  New      4 2020-03-29         Dardan &amp; Monet192   \n",
       "50249   51     50 2018-10-21  LSD (Labrinth / Sia / Diplo)   \n",
       "\n",
       "                      Title Week(s) in Charts Peak  \n",
       "0            Monday Morning               10     1  \n",
       "1          Russian Roulette                6     2  \n",
       "2           Meet Me Halfway               10     3  \n",
       "3      Empire State Of Mind               14     4  \n",
       "4       All The Right Moves                9     2  \n",
       "...                     ...               ...  ...  \n",
       "50245          Just A Dream               16    22  \n",
       "50246      Barbra Streisand               12     1  \n",
       "50247                Colors                5    63  \n",
       "50248         H &lt;3 T E L                1     4  \n",
       "50249         Thunderclouds                7    50  \n",
       "\n",
       "[50250 rows x 7 columns]"
      ]
     },
     "execution_count": 32,
     "metadata": {},
     "output_type": "execute_result"
    }
   ],
   "source": [
    "weeklyCharts"
   ]
  },
  {
   "cell_type": "code",
   "execution_count": null,
   "id": "charming-effectiveness",
   "metadata": {},
   "outputs": [],
   "source": []
  }
 ],
 "metadata": {
  "kernelspec": {
   "display_name": "Python 3",
   "language": "python",
   "name": "python3"
  },
  "language_info": {
   "codemirror_mode": {
    "name": "ipython",
    "version": 3
   },
   "file_extension": ".py",
   "mimetype": "text/x-python",
   "name": "python",
   "nbconvert_exporter": "python",
   "pygments_lexer": "ipython3",
   "version": "3.8.5"
  }
 },
 "nbformat": 4,
 "nbformat_minor": 5
}
